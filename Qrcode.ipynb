#qr code generator
!pip install qrcode
import qrcode as qr
img=qr.make("https://www.youtube.com/")#paste a link to generate qr code
img.save("Youtube.png")

